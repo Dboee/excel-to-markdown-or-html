{
 "cells": [
  {
   "cell_type": "code",
   "execution_count": 4,
   "metadata": {},
   "outputs": [
    {
     "name": "stderr",
     "output_type": "stream",
     "text": [
      "c:\\Users\\David.Hortman.Boe\\Anaconda3\\lib\\site-packages\\openpyxl\\worksheet\\_read_only.py:79: UserWarning: Data Validation extension is not supported and will be removed\n",
      "  for idx, row in parser.parse():\n",
      "c:\\Users\\David.Hortman.Boe\\Anaconda3\\lib\\site-packages\\openpyxl\\worksheet\\_read_only.py:79: UserWarning: Data Validation extension is not supported and will be removed\n",
      "  for idx, row in parser.parse():\n",
      "c:\\Users\\David.Hortman.Boe\\Anaconda3\\lib\\site-packages\\openpyxl\\worksheet\\_read_only.py:79: UserWarning: Data Validation extension is not supported and will be removed\n",
      "  for idx, row in parser.parse():\n",
      "c:\\Users\\David.Hortman.Boe\\Anaconda3\\lib\\site-packages\\openpyxl\\worksheet\\_read_only.py:79: UserWarning: Data Validation extension is not supported and will be removed\n",
      "  for idx, row in parser.parse():\n"
     ]
    }
   ],
   "source": [
    "import pandas as pd\n",
    "\n",
    "# Open the Excel file\n",
    "xl = pd.ExcelFile('Software Requirements Specification.xlsx')\n",
    "\n",
    "# Loop through each sheet\n",
    "for sheet in xl.sheet_names:\n",
    "    # Read in the sheet\n",
    "    df = xl.parse(sheet)\n",
    "\n",
    "    # Replace NaN values with an empty string\n",
    "    df = df.fillna('')\n",
    "\n",
    "    # Convert the DataFrame to Markdown\n",
    "    markdown = df.to_markdown()\n",
    "\n",
    "    # Write the Markdown to a file\n",
    "    with open(sheet + '.md', 'w') as f:\n",
    "        f.write(markdown)\n",
    "\n"
   ]
  }
 ],
 "metadata": {
  "kernelspec": {
   "display_name": "base",
   "language": "python",
   "name": "python3"
  },
  "language_info": {
   "codemirror_mode": {
    "name": "ipython",
    "version": 3
   },
   "file_extension": ".py",
   "mimetype": "text/x-python",
   "name": "python",
   "nbconvert_exporter": "python",
   "pygments_lexer": "ipython3",
   "version": "3.9.13 (main, Aug 25 2022, 23:51:50) [MSC v.1916 64 bit (AMD64)]"
  },
  "orig_nbformat": 4,
  "vscode": {
   "interpreter": {
    "hash": "5892fd2f77188e6dfa105c253c1989749c495d8950a2180caea861fbf2c6d874"
   }
  }
 },
 "nbformat": 4,
 "nbformat_minor": 2
}
